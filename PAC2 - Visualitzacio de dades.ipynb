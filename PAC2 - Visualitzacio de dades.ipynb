{
 "cells": [
  {
   "cell_type": "markdown",
   "metadata": {},
   "source": [
    "HISTOGRAMA"
   ]
  },
  {
   "cell_type": "code",
   "execution_count": 1,
   "metadata": {},
   "outputs": [],
   "source": [
    "from sklearn import datasets\n",
    "import matplotlib.pyplot as plt\n",
    "import pandas as pd\n",
    "import numpy as np"
   ]
  },
  {
   "cell_type": "code",
   "execution_count": 2,
   "metadata": {},
   "outputs": [],
   "source": [
    "# Import wine dataset\n",
    "wine_data = datasets.load_wine()\n",
    "wine_data = pd.DataFrame(data= np.c_[wine_data[\"data\"], wine_data[\"target\"]],\n",
    "                     columns= wine_data[\"feature_names\"] + [\"target\"])"
   ]
  },
  {
   "cell_type": "code",
   "execution_count": 12,
   "metadata": {},
   "outputs": [
    {
     "data": {
      "image/png": "[encoded data removed]",
      "text/plain": [
       "<Figure size 432x288 with 1 Axes>"
      ]
     },
     "metadata": {
      "needs_background": "light"
     },
     "output_type": "display_data"
    }
   ],
   "source": [
    "plt.figure()\n",
    "plt.title(\"Nivell d'alcohol en els vins\")\n",
    "plt.hist(wine_data[\"alcohol\"], edgecolor='black')\n",
    "plt.xlabel(\"Nivell d'alcohol\")\n",
    "plt.ylabel(\"Número de vins\")\n",
    "plt.savefig(\"Histograma.png\")"
   ]
  },
  {
   "cell_type": "markdown",
   "metadata": {},
   "source": [
    "MARIMEKKO CHART"
   ]
  },
  {
   "cell_type": "code",
   "execution_count": 4,
   "metadata": {},
   "outputs": [],
   "source": [
    "all_countries = ['Afghanistan', 'Albania', 'Algeria', 'American Samoa', \n",
    "                 'Andorra', 'Angola', 'Antigua and Barbuda', 'Argentina', \n",
    "                 'Armenia', 'Aruba', 'Australia', 'Austria', 'Azerbaijan', \n",
    "                 'Bahamas, The', 'Bahrain', 'Bangladesh', 'Barbados', \n",
    "                 'Belarus', 'Belgium', 'Belize', 'Benin', 'Bermuda', \n",
    "                 'Bhutan', 'Bolivia', 'Bosnia and Herzegovina', 'Botswana', \n",
    "                 'Brazil', 'British Virgin Islands', 'Brunei Darussalam', \n",
    "                 'Bulgaria', 'Burkina Faso', 'Burundi', 'Cabo Verde', \n",
    "                 'Cambodia', 'Cameroon', 'Canada', 'Cayman Islands', \n",
    "                 'Central African Republic', 'Chad', 'Channel Islands', \n",
    "                 'Chile', 'China', 'Colombia', 'Comoros', 'Congo, Dem. Rep.', \n",
    "                 'Congo, Rep.', 'Costa Rica', \"Cote d'Ivoire\", 'Croatia', \n",
    "                 'Cuba', 'Curacao', 'Cyprus', 'Czech Republic', 'Denmark', \n",
    "                 'Djibouti', 'Dominica', 'Dominican Republic', 'Ecuador', \n",
    "                 'Egypt, Arab Rep.', 'El Salvador', 'Equatorial Guinea', \n",
    "                 'Eritrea', 'Estonia', 'Eswatini', 'Ethiopia', 'Faroe Islands', \n",
    "                 'Fiji', 'Finland', 'France', 'French Polynesia', 'Gabon', \n",
    "                 'Gambia, The', 'Georgia', 'Germany', 'Ghana', 'Gibraltar', \n",
    "                 'Greece', 'Greenland', 'Grenada', 'Guam', 'Guatemala', \n",
    "                 'Guinea', 'Guinea-Bissau', 'Guyana', 'Haiti', 'Honduras', \n",
    "                 'Hong Kong SAR, China', 'Hungary', 'Iceland', 'India', \n",
    "                 'Indonesia', 'Iran, Islamic Rep.', 'Iraq', 'Ireland', \n",
    "                 'Isle of Man', 'Israel', 'Italy', 'Jamaica', 'Japan', \n",
    "                 'Jordan', 'Kazakhstan', 'Kenya', 'Kiribati', \n",
    "                 'Korea, Dem. People’s Rep.', 'Korea, Rep.', 'Kosovo', \n",
    "                 'Kuwait', 'Kyrgyz Republic', 'Lao PDR', 'Latvia', 'Lebanon', \n",
    "                 'Lesotho', 'Liberia', 'Libya', 'Liechtenstein', 'Lithuania', \n",
    "                 'Luxembourg', 'Macao SAR, China', 'Madagascar', 'Malawi', \n",
    "                 'Malaysia', 'Maldives', 'Mali', 'Malta', 'Marshall Islands', \n",
    "                 'Mauritania', 'Mauritius', 'Mexico', 'Micronesia, Fed. Sts.', \n",
    "                 'Moldova', 'Monaco', 'Mongolia', 'Montenegro', 'Morocco', \n",
    "                 'Mozambique', 'Myanmar', 'Namibia', 'Nauru', 'Nepal', 'Netherlands', \n",
    "                 'New Caledonia', 'New Zealand', 'Nicaragua', 'Niger', 'Nigeria', \n",
    "                 'North Macedonia', 'Northern Mariana Islands', 'Norway', 'Oman', \n",
    "                 'Pakistan', 'Palau', 'Panama', 'Papua New Guinea', 'Paraguay', \n",
    "                 'Peru', 'Philippines', 'Poland', 'Portugal', 'Puerto Rico', 'Qatar', \n",
    "                 'Romania', 'Russian Federation', 'Rwanda', 'Samoa', 'San Marino', \n",
    "                 'Sao Tome and Principe', 'Saudi Arabia', 'Senegal', 'Serbia', \n",
    "                 'Seychelles', 'Sierra Leone', 'Singapore', 'Sint Maarten (Dutch part)', \n",
    "                 'Slovak Republic', 'Slovenia', 'Solomon Islands', 'Somalia', \n",
    "                 'South Africa', 'South Sudan', 'Spain', 'Sri Lanka', \n",
    "                 'St. Kitts and Nevis', 'St. Lucia', 'St. Martin (French part)', \n",
    "                 'St. Vincent and the Grenadines', 'Sudan', 'Suriname', 'Sweden', \n",
    "                 'Switzerland', 'Syrian Arab Republic', 'Tajikistan', 'Tanzania', \n",
    "                 'Thailand', 'Timor-Leste', 'Togo', 'Tonga', 'Trinidad and Tobago', \n",
    "                 'Tunisia', 'Turkey', 'Turkmenistan', 'Turks and Caicos Islands', \n",
    "                 'Tuvalu', 'Uganda', 'Ukraine', 'United Arab Emirates', 'United Kingdom', \n",
    "                 'United States', 'Uruguay', 'Uzbekistan', 'Vanuatu', 'Venezuela, RB', \n",
    "                 'Vietnam', 'Virgin Islands (U.S.)', 'West Bank and Gaza', 'Yemen, Rep.', \n",
    "                 'Zambia', 'Zimbabwe']\n",
    "\n",
    "eu = ['Austria', 'Belgium', 'Bulgaria', 'Croatia', 'Cyprus', 'Czech Republic', 'Denmark', \n",
    "      'Estonia', 'Finland', 'France', 'Germany', 'Greece', 'Hungary', 'Ireland', 'Italy', \n",
    "      'Latvia', 'Lithuania', 'Luxembourg', 'Malta', 'Netherlands', 'Poland', 'Portugal', \n",
    "      'Romania', 'Slovak Republic', 'Slovenia', 'Spain', 'Sweden']\n",
    "\n",
    "la_c = ['Antigua and Barbuda', 'Argentina', 'Aruba', 'Bahamas, The', 'Barbados', 'Belize', \n",
    "        'Bolivia', 'Brazil', 'British Virgin Islands', 'Cayman Islands', 'Chile', 'Colombia', \n",
    "        'Costa Rica', 'Cuba', 'Curacao', 'Dominica', 'Dominican Republic', 'Ecuador', \n",
    "        'El Salvador', 'Grenada', 'Guatemala', 'Guyana', 'Haiti', 'Honduras', 'Jamaica', \n",
    "        'Mexico', 'Nicaragua', 'Panama', 'Paraguay', 'Peru', 'Puerto Rico', \n",
    "        'Sint Maarten (Dutch Part)', 'St. Kitts And Nevis', 'St. Lucia', \n",
    "        'St. Martin (French Part)','St. Vincent and The Grenadines', 'Suriname', \n",
    "        'Trinidad and Tobago', 'Turks and Caicos Islands', 'Uruguay', 'Venezuela, Rb', \n",
    "        'Virgin Islands (U.S.)']\n",
    "\n",
    "# east asia and pacific\n",
    "eap = ['American Samoa', 'Australia', 'Brunei Darussalam', \n",
    "       'Cambodia', 'China', 'Fiji', 'French Polynesia', 'Guam', \n",
    "       'Hong Kong Sar, China', 'Indonesia', 'Japan', 'Kiribati', \n",
    "       'Korea, Dem. People’S Rep.', 'Korea, Rep.', 'Lao Pdr', \n",
    "       'Macao Sar, China', 'Malaysia', 'Marshall Islands', \n",
    "       'Micronesia, Fed. Sts.', 'Mongolia', 'Myanmar', 'Nauru', \n",
    "       'New Caledonia', 'New Zealand', 'Northern Mariana Islands', \n",
    "       'Palau', 'Papua New Guinea', 'Philippines', 'Samoa', \n",
    "       'Singapore', 'Solomon Islands', 'Thailand', 'Timor-Leste', \n",
    "       'Tonga', 'Tuvalu', 'Vanuatu', 'Vietnam']\n",
    "\n",
    "# europe and central asia\n",
    "eca = ['Albania', 'Andorra', 'Armenia', 'Austria', 'Azerbaijan', \n",
    "       'Belarus', 'Belgium', 'Bosnia And Herzegovina', 'Bulgaria', \n",
    "       'Channel Islands', 'Croatia', 'Cyprus', 'Czech Republic', \n",
    "       'Denmark', 'Estonia', 'Faroe Islands', 'Finland', 'France', \n",
    "       'Georgia', 'Germany', 'Gibraltar', 'Greece', 'Greenland', \n",
    "       'Hungary', 'Iceland', 'Ireland', 'Isle Of Man', 'Italy', \n",
    "       'Kazakhstan', 'Kosovo', 'Kyrgyz Republic', 'Latvia', \n",
    "       'Liechtenstein', 'Lithuania', 'Luxembourg', 'Moldova', \n",
    "       'Monaco', 'Montenegro', 'Netherlands', 'North Macedonia', \n",
    "       'Norway', 'Poland', 'Portugal', 'Romania', 'Russian Federation', \n",
    "       'San Marino', 'Serbia', 'Slovak Republic', 'Slovenia', 'Spain', \n",
    "       'Sweden', 'Switzerland', 'Tajikistan', 'Turkey', 'Turkmenistan', \n",
    "       'Ukraine', 'United Kingdom', 'Uzbekistan']\n",
    "\n",
    "# middle east and north africa\n",
    "mena = ['Algeria', 'Bahrain', 'Djibouti', 'Egypt, Arab Rep.', \n",
    "        'Iran, Islamic Rep.', 'Iraq', 'Israel', 'Jordan', 'Kuwait', \n",
    "        'Lebanon', 'Libya', 'Malta', 'Morocco', 'Oman', 'Qatar', \n",
    "        'Saudi Arabia', 'Syrian Arab Republic', 'Tunisia', \n",
    "        'United Arab Emirates', 'West Bank And Gaza', 'Yemen, Rep.']\n",
    "# Sub-saharan africa\n",
    "ssa = ['Angola', 'Benin', 'Botswana', 'Burkina Faso', 'Burundi', \n",
    "       'Cabo Verde', 'Cameroon', 'Central African Republic', 'Chad', \n",
    "       'Comoros', 'Congo, Dem. Rep.', 'Congo, Rep.', \"Cote D'Ivoire\", \n",
    "       'Equatorial Guinea', 'Eritrea', 'Eswatini', 'Ethiopia', 'Gabon', \n",
    "       'Gambia, The', 'Ghana', 'Guinea', 'Guinea-Bissau', 'Kenya', \n",
    "       'Lesotho', 'Liberia', 'Madagascar', 'Malawi', 'Mali', \n",
    "       'Mauritania', 'Mauritius', 'Mozambique', 'Namibia', 'Niger', \n",
    "       'Nigeria', 'Rwanda', 'Sao Tome And Principe', 'Senegal', \n",
    "       'Seychelles', 'Sierra Leone', 'Somalia', 'South Africa', \n",
    "       'South Sudan', 'Sudan', 'Tanzania', 'Togo', 'Uganda', 'Zambia', \n",
    "       'Zimbabwe']\n",
    "\n",
    "# north america\n",
    "na = ['Bermuda', 'Canada', 'United States']\n",
    "\n",
    "# south asia\n",
    "sa = ['Afghanistan', 'Bangladesh', 'Bhutan', 'India', 'Maldives', \n",
    "      'Nepal', 'Pakistan', 'Sri Lanka']\n",
    "\n",
    "# Highlight countries\n",
    "highlight_all = ['China', 'India', 'United States', 'Russian Federation', \n",
    "                 'Brazil', 'Indonesia', 'Nigeria']\n",
    "\n",
    "highlight_eu = ['Austria', 'Belgium', 'Czech Republic', 'France', 'Germany',\n",
    "                'Italy', 'Poland', 'Portugal', 'Romania', 'Spain', 'Sweden']\n",
    "\n",
    "highlight_la_c = ['Argentina', 'Brazil', 'Mexico', 'Guatemala', \n",
    "                  'Colombia', 'Bolivia']\n",
    "\n",
    "var_dict = {'Rural Population':\n",
    "                {'file':'API_SP.RUR.TOTL.ZS_DS2_en_csv_v2_2166125.csv',\n",
    "                 'label':'Rural Pop. (%)',\n",
    "                 'legend':['Rural Population', 'Urban Population'],\n",
    "                 'min_year':1960,\n",
    "                 'max_year':2019}, \n",
    "            'Access to Electricity':\n",
    "                {'file':'API_EG.ELC.ACCS.ZS_DS2_en_csv_v2_2164123.csv',\n",
    "                 'label':'Access to Electricity (%)',\n",
    "                 'legend':['Access to Electricity', 'No Access to Electricity'],\n",
    "                 'min_year':1990,\n",
    "                 'max_year':2018},\n",
    "            'Literacy':\n",
    "                {'file':'API_SE.ADT.LITR.ZS_DS2_en_csv_v2_2163525.csv',\n",
    "                 'label':'Literacy Rate (age +15)',\n",
    "                 'legend':['Literate Pop.', 'Illiterate Pop.'],\n",
    "                 'min_year':1970,\n",
    "                 'max_year':2018},\n",
    "            'Unemployment':\n",
    "                {'file':'API_SL.UEM.TOTL.ZS_DS2_en_csv_v2_2163385.csv',\n",
    "                 'label':'Unemployment (ILO Estimate)',\n",
    "                 'legend':['Employed', 'Unemployed'],\n",
    "                 'min_year':1991,\n",
    "                 'max_year':2019}}\n",
    "\n",
    "countries_dict = {\"All\":all_countries,\n",
    "                  \"European Union\": eu, \n",
    "                  \"Latin America & Caribbean\": la_c,\n",
    "                  \"East Asia and Pacific\": eap,\n",
    "                  \"Europe and Central Asia\": eca,\n",
    "                  \"Middle East and North Africa\": mena,\n",
    "                  \"North America\": na,\n",
    "                  \"South Asia\" : sa,\n",
    "                  \"Sub-Saharan Africa\": ssa,\n",
    "                  \"Custom\":False}\n",
    "\n",
    "highlights_dict = {\"All\":highlight_all,\n",
    "                  \"European Union\": highlight_eu, \n",
    "                  \"Latin America & Caribbean\": highlight_la_c,\n",
    "                  \"East Asia and Pacific\": [],\n",
    "                  \"Europe and Central Asia\":[],\n",
    "                  \"Middle East and North Africa\":[],\n",
    "                  \"North America\":[],\n",
    "                  \"South Asia\" : [],\n",
    "                  \"Sub-Saharan Africa\":[],\n",
    "                  \"Custom\":[]}"
   ]
  },
  {
   "cell_type": "code",
   "execution_count": 5,
   "metadata": {},
   "outputs": [],
   "source": [
    "year = 2018\n",
    "countries_select = \"All\"\n",
    "indicator = 'Rural Population'\n",
    "countries = countries_dict[countries_select]\n",
    "highlight = highlights_dict[countries_select]"
   ]
  },
  {
   "cell_type": "code",
   "execution_count": 6,
   "metadata": {},
   "outputs": [
    {
     "name": "stdout",
     "output_type": "stream",
     "text": [
      "                    Country Name     2020_pop  2020_rural\n",
      "0                          Aruba     106766.0   56.303000\n",
      "1    Africa Eastern and Southern  677243299.0   63.216694\n",
      "2                    Afghanistan   38928341.0   73.974000\n",
      "3     Africa Western and Central  458803476.0   52.151375\n",
      "4                         Angola   32866268.0   33.175000\n",
      "..                           ...          ...         ...\n",
      "261                       Kosovo    1775378.0         NaN\n",
      "262                  Yemen, Rep.   29825968.0   62.092000\n",
      "263                 South Africa   59308690.0   32.646000\n",
      "264                       Zambia   18383956.0   55.371000\n",
      "265                     Zimbabwe   14862927.0   67.758000\n",
      "\n",
      "[266 rows x 3 columns]\n"
     ]
    }
   ],
   "source": [
    "rural_file = 'API_SP.RUR.TOTL.ZS_DS2_en_csv_v2_3932166.csv'\n",
    "rural = pd.read_csv(rural_file, skiprows = 4)[[\"Country Name\", \"2020\"]] #.rename(columns={\"2020\": \"2020_pop\"})\n",
    "pop_file = \"API_SP.POP.TOTL_DS2_en_csv_v2_3918567.csv\"\n",
    "pop = pd.read_csv(pop_file, skiprows = 4)[[\"Country Name\", \"2020\"]]\n",
    "pop_rural = pop.merge(rural, \n",
    "              left_on='Country Name', \n",
    "              right_on='Country Name', \n",
    "              suffixes=['_pop', '_rural'])\n",
    "print(pop_rural)"
   ]
  },
  {
   "cell_type": "code",
   "execution_count": 7,
   "metadata": {},
   "outputs": [
    {
     "name": "stdout",
     "output_type": "stream",
     "text": [
      "214\n"
     ]
    }
   ],
   "source": [
    "pop_rural = pop_rural[pop_rural['Country Name'].isin(countries)]\n",
    "pop_rural = pop_rural[pop_rural[\"2020_pop\"].notna()]\n",
    "pop_rural = pop_rural[pop_rural[\"2020_rural\"].notna()]\n",
    "pop_rural = pop_rural.sort_values(by=\"2020_rural\")\n",
    "print(len(pop_rural))"
   ]
  },
  {
   "cell_type": "code",
   "execution_count": 8,
   "metadata": {},
   "outputs": [],
   "source": [
    "y = pop_rural[\"2020_rural\"]/100\n",
    "# get the width of the bars (population / 1mi)\n",
    "width = pop_rural[\"2020_pop\"].values / 1000000\n",
    "# calculate the x position of each country\n",
    "# x is the cummulative sum of all previous widths\n",
    "x = [0]\n",
    "temp = 0\n",
    "for i in width[:-1]:\n",
    "    temp += i\n",
    "    x.append(temp)"
   ]
  },
  {
   "cell_type": "code",
   "execution_count": 9,
   "metadata": {},
   "outputs": [],
   "source": [
    "# create lists with the x ticks positions and labels\n",
    "# based on a list of countries we want to highlight\n",
    "xticks_pos = []\n",
    "xticks_labels = [] \n",
    "for i, v in enumerate(pop_rural['Country Name']):\n",
    "    if v in highlight:\n",
    "        xticks_pos.append(width[i]/2 + x[i])\n",
    "        xticks_labels.append(v)"
   ]
  },
  {
   "cell_type": "code",
   "execution_count": 13,
   "metadata": {},
   "outputs": [
    {
     "data": {
      "image/png": "[encoded data removed]",
      "text/plain": [
       "<Figure size 1728x864 with 2 Axes>"
      ]
     },
     "metadata": {
      "needs_background": "light"
     },
     "output_type": "display_data"
    }
   ],
   "source": [
    "# define figure and axis\n",
    "fig, ax = plt.subplots(1, figsize=(24,12))\n",
    "# bars\n",
    "plt.bar(x, y, align='edge', \n",
    "        width=width, edgecolor='w', \n",
    "        linewidth = 0.5, color='#559A65')\n",
    "plt.bar(x, np.ones(len(y))-y, bottom=y, \n",
    "        align='edge', width=width, edgecolor='w', \n",
    "        linewidth = 0.5, color='#477C91')\n",
    "\n",
    "# Add notes (Total population and Year)\n",
    "total_pop = pop_rural['2020_pop'].sum()\n",
    "if total_pop > 1000000000:\n",
    "    total_pop = '{:.2f} bi'.format(total_pop/1000000000)\n",
    "elif total_pop > 1000000:\n",
    "    total_pop = '{:.2f} mi'.format(total_pop/1000000)\n",
    "else:\n",
    "    total_pop = '{:.2f}'.format(total_pop)\n",
    "notes = 'Total population: {} | Year: {}'.format(total_pop,\n",
    "                                                 year)\n",
    "plt.text(x[-1], 1.07, notes, ha='right', fontsize=20)\n",
    "# title and legend\n",
    "plt.legend(var_dict[\"Rural Population\"]['legend'], \n",
    "           ncol=2, loc='upper left', fontsize=20,\n",
    "           frameon=False, bbox_to_anchor=(0,1.11))\n",
    "plt.title('{} by Country\\n\\n'.format(var_dict['Rural Population']['label']), \n",
    "          loc='left', fontsize=24)\n",
    "\n",
    "# xy limits\n",
    "plt.xlim(0, x[-1]+width[-1])\n",
    "plt.ylim(0,1)\n",
    "# xy ticks\n",
    "plt.xticks(xticks_pos, xticks_labels, fontsize=14)\n",
    "plt.yticks(np.arange(0,1.1,0.25), \n",
    "          ['{:.0f}%'.format(i*100) for i in np.arange(0,1.1,0.25)],\n",
    "          fontsize=14)\n",
    "# twin y-axis to draw x-ticks at the top\n",
    "axy = ax.twiny()\n",
    "# max value on the x axis\n",
    "max_x = (x[-1] + width[-1])\n",
    "# get the values for 0%, 25%, 50%, 75%, and 100%\n",
    "x_ticks_percent = np.arange(0, max_x+1, max_x/4)\n",
    "# set ticks and labels\n",
    "axy.set_xticks(x_ticks_percent)\n",
    "axy.set_xticklabels(['{:.0f}%'.format(i*100) for i in x_ticks_percent/max_x], \n",
    "                    fontsize=14)\n",
    "plt.savefig(\"Marimekko.png\")"
   ]
  },
  {
   "cell_type": "code",
   "execution_count": null,
   "metadata": {},
   "outputs": [],
   "source": []
  }
 ],
 "metadata": {
  "kernelspec": {
   "display_name": "Python 3",
   "language": "python",
   "name": "python3"
  },
  "language_info": {
   "codemirror_mode": {
    "name": "ipython",
    "version": 3
   },
   "file_extension": ".py",
   "mimetype": "text/x-python",
   "name": "python",
   "nbconvert_exporter": "python",
   "pygments_lexer": "ipython3",
   "version": "3.8.3"
  }
 },
 "nbformat": 4,
 "nbformat_minor": 4
}
